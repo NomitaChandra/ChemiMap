{
 "cells": [
  {
   "cell_type": "markdown",
   "metadata": {},
   "source": [
    "# MeSH ID Parsing Code"
   ]
  },
  {
   "cell_type": "markdown",
   "metadata": {},
   "source": [
    "MeSH database download: https://www.nlm.nih.gov/databases/download/mesh.html\n",
    "\n",
    "2024 Descriptor MeSH XML: https://nlmpubs.nlm.nih.gov/projects/mesh/MESH_FILES/xmlmesh/desc2024.xml\n",
    "\n",
    "Some discoveries about XML structure\n",
    "1. MeSH ID always first, followed by the entity name\n",
    "2. Synonyms are known as \"Entry Term\", found in the XML near the end of each entity"
   ]
  },
  {
   "cell_type": "code",
   "execution_count": 12,
   "metadata": {},
   "outputs": [],
   "source": [
    "import requests\n",
    "import xml.etree.ElementTree as ET\n",
    "import pandas as pd\n",
    "import csv"
   ]
  },
  {
   "cell_type": "markdown",
   "metadata": {},
   "source": [
    "## Parse MeSH XML into Lookup Table"
   ]
  },
  {
   "cell_type": "code",
   "execution_count": 3,
   "metadata": {},
   "outputs": [],
   "source": [
    "url = 'https://nlmpubs.nlm.nih.gov/projects/mesh/MESH_FILES/xmlmesh/desc2024.xml'\n",
    "\n",
    "response = requests.get(url)\n",
    "response.raise_for_status()"
   ]
  },
  {
   "cell_type": "code",
   "execution_count": 4,
   "metadata": {},
   "outputs": [
    {
     "data": {
      "text/plain": [
       "<Element 'DescriptorRecordSet' at 0x7f549ad88540>"
      ]
     },
     "execution_count": 4,
     "metadata": {},
     "output_type": "execute_result"
    }
   ],
   "source": [
    "root = ET.fromstring(response.content)\n",
    "root"
   ]
  },
  {
   "cell_type": "code",
   "execution_count": 5,
   "metadata": {},
   "outputs": [],
   "source": [
    "# Parsing function\n",
    "\n",
    "def parse_mesh_xml(root):\n",
    "    for record in root.findall('DescriptorRecord'):\n",
    "        # Find the MeSH ID (first ID starting with 'D')\n",
    "        mesh_id = record.find('DescriptorUI').text\n",
    "        \n",
    "        # Find the primary name of the chemical/disease\n",
    "        name = record.find('DescriptorName/String').text\n",
    "        \n",
    "        # Initialize a list to hold the entry terms (starting with the primary name)\n",
    "        entry_terms = [name]\n",
    "        \n",
    "        # Look for entry terms (synonyms)\n",
    "        for entry_term in record.findall('.//TermList/Term/String'):\n",
    "            entry_terms.append(entry_term.text)\n",
    "        \n",
    "        # Store the MeSH ID along with all names and entry terms\n",
    "        mesh_lookup[mesh_id] = entry_terms\n",
    "\n",
    "    return mesh_lookup"
   ]
  },
  {
   "cell_type": "code",
   "execution_count": 10,
   "metadata": {},
   "outputs": [
    {
     "name": "stdout",
     "output_type": "stream",
     "text": [
      "MeSH ID: D000001, Names: Calcimycin | Calcimycin | 4-Benzoxazolecarboxylic acid, 5-(methylamino)-2-((3,9,11-trimethyl-8-(1-methyl-2-oxo-2-(1H-pyrrol-2-yl)ethyl)-1,7-dioxaspiro(5.5)undec-2-yl)methyl)-, (6S-(6alpha(2S*,3S*),8beta(R*),9beta,11alpha))- | A-23187 | A 23187 | Antibiotic A23187 | A23187, Antibiotic | A23187\n",
      "MeSH ID: D000002, Names: Temefos | Temefos | Temephos | Difos | Abate\n",
      "MeSH ID: D000003, Names: Abattoirs | Abattoirs | Abattoir | Slaughterhouses | Slaughterhouse | Slaughter Houses | House, Slaughter | Houses, Slaughter | Slaughter House\n",
      "MeSH ID: D000004, Names: Abbreviations as Topic | Abbreviations as Topic | Acronyms as Topic\n",
      "MeSH ID: D000005, Names: Abdomen | Abdomen | Abdomens\n",
      "MeSH ID: D000006, Names: Abdomen, Acute | Abdomen, Acute | Abdomens, Acute | Acute Abdomen | Acute Abdomens\n",
      "MeSH ID: D000007, Names: Abdominal Injuries | Abdominal Injuries | Injuries, Abdominal | Abdominal Injury | Injury, Abdominal\n",
      "MeSH ID: D000008, Names: Abdominal Neoplasms | Abdominal Neoplasms | Abdominal Neoplasm | Neoplasm, Abdominal | Neoplasms, Abdominal\n",
      "MeSH ID: D000009, Names: Abdominal Muscles | Abdominal Muscles | Abdominal Muscle | Muscle, Abdominal | Muscles, Abdominal | Transversus Abdominis | Transverse Abdominal | Abdominals, Transverse | Abdominal, Transverse | Transverse Abdominals | Pyramidalis Muscle | Muscle, Pyramidalis | Muscles, Pyramidalis | Pyramidalis Muscles | Cremaster Muscle | Cremaster Muscles | Muscle, Cremaster | Muscles, Cremaster | Quadratus Abdominis | Abdomini, Quadratus | Abdominis, Quadratus | Quadratus Abdomini\n",
      "MeSH ID: D000010, Names: Abducens Nerve | Abducens Nerve | Nerve, Abducens | Abducent Nerve | Abducent Nerves | Nerve, Abducent | Cranial Nerve VI | Cranial Nerve VIs | Nerve VI, Cranial | Nerve VIs, Cranial | Nerve VI | Nerve VIs | Nervus Abducens | Abducen, Nervus | Abducens, Nervus | Nervus Abducen | Sixth Cranial Nerve | Cranial Nerve, Sixth | Nerve, Sixth Cranial | Nerves, Sixth Cranial | Sixth Cranial Nerves\n",
      "MeSH ID: D000011, Names: Abelson murine leukemia virus | Abelson murine leukemia virus | Abelson Leukemia Virus | Leukemia Virus, Abelson | Virus, Abelson Leukemia\n",
      "MeSH ID: D000012, Names: Abetalipoproteinemia | Abetalipoproteinemia | Bassen-Kornzweig Syndrome | Bassen Kornzweig Syndrome | Microsomal Triglyceride Transfer Protein Deficiency Disease | Bassen-Kornzweig Disease | Bassen Kornzweig Disease | Microsomal Triglyceride Transfer Protein Deficiency | Betalipoprotein Deficiency Disease | Betalipoprotein Deficiency Diseases | Deficiency Disease, Betalipoprotein | Deficiency Diseases, Betalipoprotein | Disease, Betalipoprotein Deficiency | Diseases, Betalipoprotein Deficiency | Acanthocytosis | Acanthocytoses\n",
      "MeSH ID: D000013, Names: Congenital Abnormalities | Congenital Abnormalities | Abnormality, Congenital | Congenital Abnormality | Abnormalities, Congenital | Birth Defects | Birth Defect | Defect, Birth | Congenital Defects | Congenital Defect | Defect, Congenital | Defects, Congenital | Deformities | Deformity | Fetal Anomalies | Anomaly, Fetal | Fetal Anomaly | Fetal Malformations | Fetal Malformation | Malformation, Fetal\n",
      "MeSH ID: D000014, Names: Abnormalities, Drug-Induced | Abnormalities, Drug-Induced | Abnormalities, Drug Induced | Drug-Induced Abnormalities | Abnormality, Drug-Induced | Drug Induced Abnormalities | Drug-Induced Abnormality\n",
      "MeSH ID: D000015, Names: Abnormalities, Multiple | Abnormalities, Multiple | Multiple Abnormalities\n",
      "MeSH ID: D000016, Names: Abnormalities, Radiation-Induced | Abnormalities, Radiation-Induced | Abnormalities, Radiation Induced | Radiation-Induced Abnormalities | Abnormality, Radiation-Induced | Radiation Induced Abnormalities | Radiation-Induced Abnormality\n",
      "MeSH ID: D000017, Names: ABO Blood-Group System | ABO Blood-Group System | ABO Blood Group System | Blood-Group System, ABO | System, ABO Blood-Group | ABH Blood Group | Blood Group, ABH | H Blood Group | Blood Group, H | H Blood Group System | ABO Blood Group | Blood Group, ABO | ABO Factors | Factors, ABO | Blood Group H Type 1 Antigen\n",
      "MeSH ID: D000018, Names: Abomasum | Abomasum | Abomasums\n",
      "MeSH ID: D000019, Names: Abortifacient Agents | Abortifacient Agents | Agents, Abortifacient | Abortifacients | Contraceptive Agents, Postconception | Agents, Postconception Contraceptive | Postconception Contraceptive Agents | Abortifacient Effect | Effect, Abortifacient | Abortifacient Effects | Effects, Abortifacient\n",
      "MeSH ID: D000020, Names: Abortifacient Agents, Nonsteroidal | Abortifacient Agents, Nonsteroidal | Agents, Nonsteroidal Abortifacient | Nonsteroidal Abortifacient Agents | Abortifacient Agents, Non-Steroidal | Abortifacient Agents, Non Steroidal | Agents, Non-Steroidal Abortifacient | Non-Steroidal Abortifacient Agents\n",
      "MeSH ID: D000021, Names: Abortifacient Agents, Steroidal | Abortifacient Agents, Steroidal | Agents, Steroidal Abortifacient | Steroidal Abortifacient Agents | Steroid Abortifacients | Abortifacients, Steroid\n",
      "MeSH ID: D000022, Names: Abortion, Spontaneous | Abortion, Spontaneous | Abortions, Spontaneous | Spontaneous Abortions | Spontaneous Abortion | Abortion, Tubal | Abortions, Tubal | Tubal Abortion | Tubal Abortions | Miscarriage | Miscarriages | Early Pregnancy Loss | Early Pregnancy Losses | Loss, Early Pregnancy | Losses, Early Pregnancy | Pregnancy Loss, Early | Pregnancy Losses, Early\n",
      "MeSH ID: D000023, Names: Abortion Applicants | Abortion Applicants | Abortion Applicant | Applicant, Abortion | Applicants, Abortion | Abortion Seekers | Abortion Seeker | Seeker, Abortion | Seekers, Abortion | Abortion Seekers, Refused | Abortion Seeker, Refused | Refused Abortion Seeker | Refused Abortion Seekers | Seeker, Refused Abortion | Seekers, Refused Abortion | Abortion Seekers, Repeated | Abortion Seeker, Repeated | Repeated Abortion Seeker | Repeated Abortion Seekers | Seeker, Repeated Abortion | Seekers, Repeated Abortion\n",
      "MeSH ID: D000024, Names: Abortion, Criminal | Abortion, Criminal | Abortions, Criminal | Criminal Abortion | Criminal Abortions | Illegal Abortion | Abortions, Illegal | Illegal Abortions | Abortion, Illegal\n",
      "MeSH ID: D000025, Names: Abortion, Eugenic | Abortion, Eugenic | Abortions, Eugenic | Eugenic Abortions | Eugenic Abortion | Abortion, Selective | Abortions, Selective | Selective Abortions | Selective Abortion\n"
     ]
    }
   ],
   "source": [
    "mesh_lookup = {}\n",
    "\n",
    "mesh_lookup_table = parse_mesh_xml(root)\n",
    "\n",
    "for mesh_id, terms in list(mesh_lookup_table.items())[:25]:\n",
    "    print(f\"MeSH ID: {mesh_id}, Names: {' | '.join(terms)}\")"
   ]
  },
  {
   "cell_type": "code",
   "execution_count": 13,
   "metadata": {},
   "outputs": [
    {
     "name": "stdout",
     "output_type": "stream",
     "text": [
      "CSV file 'mesh_lookup_table.csv' has been created.\n"
     ]
    }
   ],
   "source": [
    "# Save as csv\n",
    "\n",
    "csv_file = 'mesh_lookup_table.csv'\n",
    "\n",
    "with open(csv_file, mode='w', newline='', encoding='utf-8') as file:\n",
    "    writer = csv.writer(file)\n",
    "    writer.writerow(['MeSH ID', 'Names/Entry Terms'])\n",
    "    \n",
    "    for mesh_id, terms in mesh_lookup_table.items():\n",
    "        writer.writerow([mesh_id, ' | '.join(terms)])\n",
    "\n",
    "print(f\"CSV file '{csv_file}' has been created.\")"
   ]
  },
  {
   "cell_type": "code",
   "execution_count": 14,
   "metadata": {},
   "outputs": [
    {
     "data": {
      "text/html": [
       "<div>\n",
       "<style scoped>\n",
       "    .dataframe tbody tr th:only-of-type {\n",
       "        vertical-align: middle;\n",
       "    }\n",
       "\n",
       "    .dataframe tbody tr th {\n",
       "        vertical-align: top;\n",
       "    }\n",
       "\n",
       "    .dataframe thead th {\n",
       "        text-align: right;\n",
       "    }\n",
       "</style>\n",
       "<table border=\"1\" class=\"dataframe\">\n",
       "  <thead>\n",
       "    <tr style=\"text-align: right;\">\n",
       "      <th></th>\n",
       "      <th>MeSH ID</th>\n",
       "      <th>Names/Entry Terms</th>\n",
       "    </tr>\n",
       "  </thead>\n",
       "  <tbody>\n",
       "    <tr>\n",
       "      <th>0</th>\n",
       "      <td>D000001</td>\n",
       "      <td>Calcimycin | Calcimycin | 4-Benzoxazolecarboxy...</td>\n",
       "    </tr>\n",
       "    <tr>\n",
       "      <th>1</th>\n",
       "      <td>D000002</td>\n",
       "      <td>Temefos | Temefos | Temephos | Difos | Abate</td>\n",
       "    </tr>\n",
       "    <tr>\n",
       "      <th>2</th>\n",
       "      <td>D000003</td>\n",
       "      <td>Abattoirs | Abattoirs | Abattoir | Slaughterho...</td>\n",
       "    </tr>\n",
       "    <tr>\n",
       "      <th>3</th>\n",
       "      <td>D000004</td>\n",
       "      <td>Abbreviations as Topic | Abbreviations as Topi...</td>\n",
       "    </tr>\n",
       "    <tr>\n",
       "      <th>4</th>\n",
       "      <td>D000005</td>\n",
       "      <td>Abdomen | Abdomen | Abdomens</td>\n",
       "    </tr>\n",
       "    <tr>\n",
       "      <th>5</th>\n",
       "      <td>D000006</td>\n",
       "      <td>Abdomen, Acute | Abdomen, Acute | Abdomens, Ac...</td>\n",
       "    </tr>\n",
       "    <tr>\n",
       "      <th>6</th>\n",
       "      <td>D000007</td>\n",
       "      <td>Abdominal Injuries | Abdominal Injuries | Inju...</td>\n",
       "    </tr>\n",
       "    <tr>\n",
       "      <th>7</th>\n",
       "      <td>D000008</td>\n",
       "      <td>Abdominal Neoplasms | Abdominal Neoplasms | Ab...</td>\n",
       "    </tr>\n",
       "    <tr>\n",
       "      <th>8</th>\n",
       "      <td>D000009</td>\n",
       "      <td>Abdominal Muscles | Abdominal Muscles | Abdomi...</td>\n",
       "    </tr>\n",
       "    <tr>\n",
       "      <th>9</th>\n",
       "      <td>D000010</td>\n",
       "      <td>Abducens Nerve | Abducens Nerve | Nerve, Abduc...</td>\n",
       "    </tr>\n",
       "    <tr>\n",
       "      <th>10</th>\n",
       "      <td>D000011</td>\n",
       "      <td>Abelson murine leukemia virus | Abelson murine...</td>\n",
       "    </tr>\n",
       "    <tr>\n",
       "      <th>11</th>\n",
       "      <td>D000012</td>\n",
       "      <td>Abetalipoproteinemia | Abetalipoproteinemia | ...</td>\n",
       "    </tr>\n",
       "    <tr>\n",
       "      <th>12</th>\n",
       "      <td>D000013</td>\n",
       "      <td>Congenital Abnormalities | Congenital Abnormal...</td>\n",
       "    </tr>\n",
       "    <tr>\n",
       "      <th>13</th>\n",
       "      <td>D000014</td>\n",
       "      <td>Abnormalities, Drug-Induced | Abnormalities, D...</td>\n",
       "    </tr>\n",
       "    <tr>\n",
       "      <th>14</th>\n",
       "      <td>D000015</td>\n",
       "      <td>Abnormalities, Multiple | Abnormalities, Multi...</td>\n",
       "    </tr>\n",
       "    <tr>\n",
       "      <th>15</th>\n",
       "      <td>D000016</td>\n",
       "      <td>Abnormalities, Radiation-Induced | Abnormaliti...</td>\n",
       "    </tr>\n",
       "    <tr>\n",
       "      <th>16</th>\n",
       "      <td>D000017</td>\n",
       "      <td>ABO Blood-Group System | ABO Blood-Group Syste...</td>\n",
       "    </tr>\n",
       "    <tr>\n",
       "      <th>17</th>\n",
       "      <td>D000018</td>\n",
       "      <td>Abomasum | Abomasum | Abomasums</td>\n",
       "    </tr>\n",
       "    <tr>\n",
       "      <th>18</th>\n",
       "      <td>D000019</td>\n",
       "      <td>Abortifacient Agents | Abortifacient Agents | ...</td>\n",
       "    </tr>\n",
       "    <tr>\n",
       "      <th>19</th>\n",
       "      <td>D000020</td>\n",
       "      <td>Abortifacient Agents, Nonsteroidal | Abortifac...</td>\n",
       "    </tr>\n",
       "    <tr>\n",
       "      <th>20</th>\n",
       "      <td>D000021</td>\n",
       "      <td>Abortifacient Agents, Steroidal | Abortifacien...</td>\n",
       "    </tr>\n",
       "    <tr>\n",
       "      <th>21</th>\n",
       "      <td>D000022</td>\n",
       "      <td>Abortion, Spontaneous | Abortion, Spontaneous ...</td>\n",
       "    </tr>\n",
       "    <tr>\n",
       "      <th>22</th>\n",
       "      <td>D000023</td>\n",
       "      <td>Abortion Applicants | Abortion Applicants | Ab...</td>\n",
       "    </tr>\n",
       "    <tr>\n",
       "      <th>23</th>\n",
       "      <td>D000024</td>\n",
       "      <td>Abortion, Criminal | Abortion, Criminal | Abor...</td>\n",
       "    </tr>\n",
       "    <tr>\n",
       "      <th>24</th>\n",
       "      <td>D000025</td>\n",
       "      <td>Abortion, Eugenic | Abortion, Eugenic | Aborti...</td>\n",
       "    </tr>\n",
       "  </tbody>\n",
       "</table>\n",
       "</div>"
      ],
      "text/plain": [
       "    MeSH ID                                  Names/Entry Terms\n",
       "0   D000001  Calcimycin | Calcimycin | 4-Benzoxazolecarboxy...\n",
       "1   D000002       Temefos | Temefos | Temephos | Difos | Abate\n",
       "2   D000003  Abattoirs | Abattoirs | Abattoir | Slaughterho...\n",
       "3   D000004  Abbreviations as Topic | Abbreviations as Topi...\n",
       "4   D000005                       Abdomen | Abdomen | Abdomens\n",
       "5   D000006  Abdomen, Acute | Abdomen, Acute | Abdomens, Ac...\n",
       "6   D000007  Abdominal Injuries | Abdominal Injuries | Inju...\n",
       "7   D000008  Abdominal Neoplasms | Abdominal Neoplasms | Ab...\n",
       "8   D000009  Abdominal Muscles | Abdominal Muscles | Abdomi...\n",
       "9   D000010  Abducens Nerve | Abducens Nerve | Nerve, Abduc...\n",
       "10  D000011  Abelson murine leukemia virus | Abelson murine...\n",
       "11  D000012  Abetalipoproteinemia | Abetalipoproteinemia | ...\n",
       "12  D000013  Congenital Abnormalities | Congenital Abnormal...\n",
       "13  D000014  Abnormalities, Drug-Induced | Abnormalities, D...\n",
       "14  D000015  Abnormalities, Multiple | Abnormalities, Multi...\n",
       "15  D000016  Abnormalities, Radiation-Induced | Abnormaliti...\n",
       "16  D000017  ABO Blood-Group System | ABO Blood-Group Syste...\n",
       "17  D000018                    Abomasum | Abomasum | Abomasums\n",
       "18  D000019  Abortifacient Agents | Abortifacient Agents | ...\n",
       "19  D000020  Abortifacient Agents, Nonsteroidal | Abortifac...\n",
       "20  D000021  Abortifacient Agents, Steroidal | Abortifacien...\n",
       "21  D000022  Abortion, Spontaneous | Abortion, Spontaneous ...\n",
       "22  D000023  Abortion Applicants | Abortion Applicants | Ab...\n",
       "23  D000024  Abortion, Criminal | Abortion, Criminal | Abor...\n",
       "24  D000025  Abortion, Eugenic | Abortion, Eugenic | Aborti..."
      ]
     },
     "execution_count": 14,
     "metadata": {},
     "output_type": "execute_result"
    }
   ],
   "source": [
    "mesh_lookup_df = pd.read_csv('mesh_lookup_table.csv')\n",
    "mesh_lookup_df.head(25)"
   ]
  },
  {
   "cell_type": "code",
   "execution_count": 16,
   "metadata": {},
   "outputs": [
    {
     "data": {
      "text/plain": [
       "(30764, 2)"
      ]
     },
     "execution_count": 16,
     "metadata": {},
     "output_type": "execute_result"
    }
   ],
   "source": [
    "mesh_lookup_df.shape"
   ]
  },
  {
   "cell_type": "code",
   "execution_count": null,
   "metadata": {},
   "outputs": [],
   "source": []
  }
 ],
 "metadata": {
  "kernelspec": {
   "display_name": "base",
   "language": "python",
   "name": "python3"
  },
  "language_info": {
   "codemirror_mode": {
    "name": "ipython",
    "version": 3
   },
   "file_extension": ".py",
   "mimetype": "text/x-python",
   "name": "python",
   "nbconvert_exporter": "python",
   "pygments_lexer": "ipython3",
   "version": "3.9.13"
  }
 },
 "nbformat": 4,
 "nbformat_minor": 2
}
