{
 "cells": [
  {
   "cell_type": "code",
   "execution_count": 39,
   "metadata": {},
   "outputs": [],
   "source": [
    "import pandas as pd \n",
    "df_train = pd.read_csv('OfficialTrainingSet1.csv')\n",
    "df_test = pd.read_csv('OfficialTestSet1.csv')\n",
    "\n"
   ]
  },
  {
   "cell_type": "code",
   "execution_count": 40,
   "metadata": {},
   "outputs": [],
   "source": [
    "df_train.iloc[:, 3:] = df_train.iloc[:, 3:].apply(\n",
    "    lambda x: x.apply(\n",
    "        lambda item: [i.strip() for i in item.replace('[', '').replace(']', '').replace(\"'\", \"\").split(',')] \n",
    "        if isinstance(item, str) else item\n",
    "    )\n",
    ")"
   ]
  },
  {
   "cell_type": "code",
   "execution_count": 44,
   "metadata": {},
   "outputs": [
    {
     "data": {
      "text/plain": [
       "0      [Naloxone, clonidine, clonidine, nalozone, alp...\n",
       "1                      [Lidocaine, lidocaine, lidocaine]\n",
       "2      [Suxamethonium, Suxamethonium chloride, Sch, Sch]\n",
       "3      [Galanthamine hydrobromide, scopolamine, Hyosc...\n",
       "4      [lithium, lithium, lithium, lithium, lithium, ...\n",
       "                             ...                        \n",
       "495    [zonisamide, Zonisamide, zonisamide, zonisamid...\n",
       "496    [tyrosine, PAN, tyrosine, Puromycin aminonucle...\n",
       "497    [Ticlopidine, ticlopidine, ticlopidine, ticlop...\n",
       "498    [morphine, scopolamine, cycloheximide, morphin...\n",
       "499    [Apomorphine, dopamine agonist, dopamine, apom...\n",
       "Name: chemicals, Length: 500, dtype: object"
      ]
     },
     "execution_count": 44,
     "metadata": {},
     "output_type": "execute_result"
    }
   ],
   "source": [
    "from collections import Counter\n",
    "\n",
    "all_chemicals = df_train['chemicals']\n",
    "\n",
    "all_chemicals"
   ]
  }
 ],
 "metadata": {
  "kernelspec": {
   "display_name": "Python 3",
   "language": "python",
   "name": "python3"
  },
  "language_info": {
   "codemirror_mode": {
    "name": "ipython",
    "version": 3
   },
   "file_extension": ".py",
   "mimetype": "text/x-python",
   "name": "python",
   "nbconvert_exporter": "python",
   "pygments_lexer": "ipython3",
   "version": "3.11.9"
  }
 },
 "nbformat": 4,
 "nbformat_minor": 2
}
