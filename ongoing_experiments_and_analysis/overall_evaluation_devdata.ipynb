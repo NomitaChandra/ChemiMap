{
 "cells": [
  {
   "cell_type": "markdown",
   "id": "46ce9c7e",
   "metadata": {},
   "source": [
    "# Overall Pipeline Evaluation\n",
    "\n",
    "This notebook evaluates the performance of the overall Chemimap pipeline by comparing the predicted positive labels and the gold labels.  We cover the 500 dev examples this time."
   ]
  },
  {
   "cell_type": "markdown",
   "id": "de07d4a3",
   "metadata": {},
   "source": [
    "## 1. Imports"
   ]
  },
  {
   "cell_type": "code",
   "execution_count": 1,
   "id": "ae36bb85",
   "metadata": {},
   "outputs": [],
   "source": [
    "import csv"
   ]
  },
  {
   "cell_type": "code",
   "execution_count": 2,
   "id": "d301cd2b",
   "metadata": {},
   "outputs": [],
   "source": [
    "## This is a helper function used in the script.  Nothing special here\n",
    "def chunks(l, n):\n",
    "    \"\"\"\n",
    "    Yield successive n-sized chunks from l.\n",
    "    \"\"\"\n",
    "    for i in range(0, len(l), n):\n",
    "        assert len(l[i:i + n]) == n\n",
    "        yield l[i:i + n]"
   ]
  },
  {
   "cell_type": "markdown",
   "id": "3f46c849",
   "metadata": {},
   "source": [
    "## 2. Loading Results"
   ]
  },
  {
   "cell_type": "code",
   "execution_count": 30,
   "id": "212480db",
   "metadata": {},
   "outputs": [
    {
     "name": "stdout",
     "output_type": "stream",
     "text": [
      "Gold labels loading completed.  Number of positive examples: 1012\n",
      "\n",
      "Showing the extracted gold positive relationships for the 3rd example:\n",
      "[{'Chemical': {'NH3', 'Ammonia', 'ammonia'}, 'Disease': {'drowsiness'}}, {'Chemical': {'valproic acid', 'Valproic acid', 'VPA'}, 'Disease': {'drowsiness'}}]\n"
     ]
    }
   ],
   "source": [
    "## Extracting the gold positive labels\n",
    "test_set_goldfile = \"./data_scibert_version/test_filter.data\"\n",
    "train_set_goldfile = \"./data_scibert_version/train_filter.data\"\n",
    "dev_set_goldfile = \"./data_scibert_version/dev_filter.data\"\n",
    "pos_label_count = 0\n",
    "pos_goldlabel = {}\n",
    "                               \n",
    "with open(dev_set_goldfile, 'r') as f:\n",
    "    lines = [l.strip().split('\\t') for l in f]\n",
    "\n",
    "    for l in lines:\n",
    "        pmid = l[0]\n",
    "\n",
    "        for r in chunks(l[2:], 17):\n",
    "            \n",
    "            if r[0] == '1:CID:2':\n",
    "                assert ((r[7] == 'Chemical') and (r[13] == 'Disease'))\n",
    "                entry = {'Chemical': set(r[6].split('|')),\n",
    "                         'Disease': set(r[12].split('|'))}\n",
    "                if pmid in pos_goldlabel.keys():\n",
    "                    pos_goldlabel[pmid].append(entry)\n",
    "                else:\n",
    "                    pos_goldlabel[pmid] = [entry]\n",
    "                pos_label_count += 1\n",
    "\n",
    "print(f\"Gold labels loading completed.  Number of positive examples: {pos_label_count}\")\n",
    "print(f\"\\nShowing the extracted gold positive relationships for the 3rd example:\\n{pos_goldlabel[list(pos_goldlabel.keys())[2]]}\")"
   ]
  },
  {
   "cell_type": "code",
   "execution_count": 31,
   "id": "8aa42096",
   "metadata": {},
   "outputs": [
    {
     "name": "stdout",
     "output_type": "stream",
     "text": [
      "Prediction loading completed.  Number of positive predictions: 862\n",
      "\n",
      "Showing the extracted predicted positive relationships for the 3rd example:\n",
      "[{'Entity1': {'NH3', 'Ammonia', 'ammonia'}, 'Entity2': {'epileptic'}}, {'Entity1': {'NH3', 'Ammonia', 'ammonia'}, 'Entity2': {'drowsiness'}}]\n"
     ]
    }
   ],
   "source": [
    "## Extracting the predicted positive relationships\n",
    "test_set_predfile = \"./overall_results/full_set_results.pubtator\"\n",
    "pos_pred_count = 0\n",
    "pos_pred = {}\n",
    "entities_mapping = {}\n",
    "\n",
    "with open(test_set_predfile, 'r') as f:\n",
    "    lines = [l.strip().split('\\t') for l in f]\n",
    "    \n",
    "    for l in lines:\n",
    "        pmid = l[0]\n",
    "        if pmid not in pos_goldlabel.keys():\n",
    "            continue\n",
    "            \n",
    "        if pmid not in entities_mapping.keys():\n",
    "            entities_mapping[pmid] = {}\n",
    "        \n",
    "        # extracting the entities mapping:\n",
    "        if len(l) == 6:\n",
    "            MeSHID = l[5]\n",
    "            entity_name = l[3]\n",
    "            if MeSHID not in entities_mapping[pmid].keys():\n",
    "                entities_mapping[pmid][MeSHID] = [entity_name]\n",
    "            else:\n",
    "                entities_mapping[pmid][MeSHID].append(entity_name)\n",
    "                \n",
    "        # extracting the predictions, note that predictions always follow the full entity lists:\n",
    "        if len(l) == 5:\n",
    "            assert l[1] == \"CID\", f\"Error found in example with PMed ID {pmid}: Not CID\"\n",
    "            assert l[4] == 'predict', f\"Error found in example with PMed ID {pmid}: Not prediction\"\n",
    "            \n",
    "            entity1_names = entities_mapping[pmid][l[2]]\n",
    "            entity2_names = entities_mapping[pmid][l[3]]\n",
    "            \n",
    "            entry = {'Entity1': set(entity1_names),\n",
    "                     'Entity2': set(entity2_names)}\n",
    "            \n",
    "            if pmid in pos_pred.keys():\n",
    "                pos_pred[pmid].append(entry)\n",
    "            else:\n",
    "                pos_pred[pmid] = [entry]\n",
    "            pos_pred_count += 1\n",
    "        \n",
    "print(f\"Prediction loading completed.  Number of positive predictions: {pos_pred_count}\")\n",
    "print(f\"\\nShowing the extracted predicted positive relationships for the 3rd example:\\n{pos_pred[list(pos_pred.keys())[2]]}\")      \n",
    "        "
   ]
  },
  {
   "cell_type": "code",
   "execution_count": 32,
   "id": "727380ba",
   "metadata": {},
   "outputs": [],
   "source": [
    "for PMedID in list(pos_goldlabel.keys()):\n",
    "    if PMedID in list(pos_pred.keys()):\n",
    "        continue\n",
    "    else:\n",
    "        print(f\"PMed ID {PMedID} not found in predictions\")"
   ]
  },
  {
   "cell_type": "code",
   "execution_count": 33,
   "id": "61155d78",
   "metadata": {},
   "outputs": [
    {
     "data": {
      "text/plain": [
       "(500, 500)"
      ]
     },
     "execution_count": 33,
     "metadata": {},
     "output_type": "execute_result"
    }
   ],
   "source": [
    "len(list(pos_goldlabel.keys())), len(list(pos_pred.keys()))"
   ]
  },
  {
   "cell_type": "markdown",
   "id": "96196ebf",
   "metadata": {},
   "source": [
    "## 3. Actual Evaluation\n",
    "- Given that any diffences in the NER and MeSH steps will impact the relationships that the RE model is asked to predict on, it is simply not possible to directly compare all the positive and negative predictions using the conventonal notions of precision and recall, as there is not a single number available for use as the denominator.\n",
    "- Instead, as our focus is on the positive labels only (N.B. negative labels are not shown in the app, nor are they the concern of users), we adopt the following altered definitions:\n",
    "- ***Precision***: number of correct positive predictions / number of positive predictions made\n",
    "- ***Recall***: number of correct positive predictions / number of positive gold labels\n",
    "- ***F1***: calculated based on the above altered precision and recall metrics"
   ]
  },
  {
   "cell_type": "code",
   "execution_count": 34,
   "id": "8254d654",
   "metadata": {},
   "outputs": [
    {
     "name": "stdout",
     "output_type": "stream",
     "text": [
      "Completed.  Number of correct positive predictions: 343\n"
     ]
    }
   ],
   "source": [
    "## Calculating the number of correct positive predictions\n",
    "correct_preds = 0\n",
    "\n",
    "for pmid in pos_pred.keys():\n",
    "    \n",
    "    preds = pos_pred[pmid]\n",
    "    if pmid in pos_goldlabel.keys():\n",
    "        golds = pos_goldlabel[pmid]\n",
    "    else:\n",
    "        continue\n",
    "    \n",
    "    for pred in preds:\n",
    "        found = False\n",
    "        \n",
    "        for gold in golds:\n",
    "            if not found:\n",
    "                entity1 = pred['Entity1']\n",
    "                entity2 = pred['Entity2']\n",
    "                gold_chem = gold['Chemical']\n",
    "                gold_dis = gold['Disease']\n",
    "                if len(entity1.intersection(gold_chem)) >0 and len(entity2.intersection(gold_dis)) > 0:\n",
    "                    correct_preds += 1\n",
    "                    found = True\n",
    "                elif len(entity2.intersection(gold_chem)) >0 and len(entity1.intersection(gold_dis)) > 0:\n",
    "                    correct_preds += 1\n",
    "                    found = True\n",
    "                    \n",
    "print(f\"Completed.  Number of correct positive predictions: {correct_preds}\")\n",
    "                "
   ]
  },
  {
   "cell_type": "code",
   "execution_count": 35,
   "id": "a90b5a32",
   "metadata": {},
   "outputs": [
    {
     "name": "stdout",
     "output_type": "stream",
     "text": [
      "Results:\n",
      "- Precision: 39.79\n",
      "- Recall: 33.89\n",
      "- F1: 36.61\n"
     ]
    }
   ],
   "source": [
    "## Score calculations:\n",
    "precision = correct_preds / pos_pred_count\n",
    "recall = correct_preds / pos_label_count\n",
    "f1 = 2 * (precision * recall) / (precision + recall)\n",
    "\n",
    "print(f\"Results:\\n- Precision: {round(precision*100, 2)}\\n- Recall: {round(recall*100, 2)}\\n- F1: {round(f1*100, 2)}\")"
   ]
  }
 ],
 "metadata": {
  "kernelspec": {
   "display_name": "Python 3 (ipykernel)",
   "language": "python",
   "name": "python3"
  },
  "language_info": {
   "codemirror_mode": {
    "name": "ipython",
    "version": 3
   },
   "file_extension": ".py",
   "mimetype": "text/x-python",
   "name": "python",
   "nbconvert_exporter": "python",
   "pygments_lexer": "ipython3",
   "version": "3.9.13"
  }
 },
 "nbformat": 4,
 "nbformat_minor": 5
}
